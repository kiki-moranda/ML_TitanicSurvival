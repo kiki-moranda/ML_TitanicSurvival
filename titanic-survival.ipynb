{
 "cells": [
  {
   "cell_type": "code",
   "execution_count": 1,
   "id": "056cea5e",
   "metadata": {
    "_cell_guid": "b1076dfc-b9ad-4769-8c92-a6c4dae69d19",
    "_uuid": "8f2839f25d086af736a60e9eeb907d3b93b6e0e5",
    "execution": {
     "iopub.execute_input": "2023-09-07T19:00:03.213828Z",
     "iopub.status.busy": "2023-09-07T19:00:03.213418Z",
     "iopub.status.idle": "2023-09-07T19:00:03.228779Z",
     "shell.execute_reply": "2023-09-07T19:00:03.227549Z"
    },
    "papermill": {
     "duration": 0.033686,
     "end_time": "2023-09-07T19:00:03.231380",
     "exception": false,
     "start_time": "2023-09-07T19:00:03.197694",
     "status": "completed"
    },
    "tags": []
   },
   "outputs": [
    {
     "name": "stdout",
     "output_type": "stream",
     "text": [
      "/kaggle/input/titanic/train.csv\n",
      "/kaggle/input/titanic/test.csv\n",
      "/kaggle/input/titanic/gender_submission.csv\n"
     ]
    }
   ],
   "source": [
    "# This Python 3 environment comes with many helpful analytics libraries installed\n",
    "# It is defined by the kaggle/python Docker image: https://github.com/kaggle/docker-python\n",
    "# For example, here's several helpful packages to load\n",
    "\n",
    "import numpy as np # linear algebra\n",
    "import pandas as pd # data processing, CSV file I/O (e.g. pd.read_csv)\n",
    "\n",
    "# Input data files are available in the read-only \"../input/\" directory\n",
    "# For example, running this (by clicking run or pressing Shift+Enter) will list all files under the input directory\n",
    "\n",
    "import os\n",
    "for dirname, _, filenames in os.walk('/kaggle/input'):\n",
    "    for filename in filenames:\n",
    "        print(os.path.join(dirname, filename))\n",
    "\n",
    "# You can write up to 20GB to the current directory (/kaggle/working/) that gets preserved as output when you create a version using \"Save & Run All\" \n",
    "# You can also write temporary files to /kaggle/temp/, but they won't be saved outside of the current session"
   ]
  },
  {
   "cell_type": "code",
   "execution_count": 2,
   "id": "744d1376",
   "metadata": {
    "execution": {
     "iopub.execute_input": "2023-09-07T19:00:03.260307Z",
     "iopub.status.busy": "2023-09-07T19:00:03.259887Z",
     "iopub.status.idle": "2023-09-07T19:00:03.308505Z",
     "shell.execute_reply": "2023-09-07T19:00:03.307381Z"
    },
    "papermill": {
     "duration": 0.066015,
     "end_time": "2023-09-07T19:00:03.311157",
     "exception": false,
     "start_time": "2023-09-07T19:00:03.245142",
     "status": "completed"
    },
    "tags": []
   },
   "outputs": [
    {
     "data": {
      "text/html": [
       "<div>\n",
       "<style scoped>\n",
       "    .dataframe tbody tr th:only-of-type {\n",
       "        vertical-align: middle;\n",
       "    }\n",
       "\n",
       "    .dataframe tbody tr th {\n",
       "        vertical-align: top;\n",
       "    }\n",
       "\n",
       "    .dataframe thead th {\n",
       "        text-align: right;\n",
       "    }\n",
       "</style>\n",
       "<table border=\"1\" class=\"dataframe\">\n",
       "  <thead>\n",
       "    <tr style=\"text-align: right;\">\n",
       "      <th></th>\n",
       "      <th>PassengerId</th>\n",
       "      <th>Survived</th>\n",
       "      <th>Pclass</th>\n",
       "      <th>Name</th>\n",
       "      <th>Sex</th>\n",
       "      <th>Age</th>\n",
       "      <th>SibSp</th>\n",
       "      <th>Parch</th>\n",
       "      <th>Ticket</th>\n",
       "      <th>Fare</th>\n",
       "      <th>Cabin</th>\n",
       "      <th>Embarked</th>\n",
       "    </tr>\n",
       "  </thead>\n",
       "  <tbody>\n",
       "    <tr>\n",
       "      <th>0</th>\n",
       "      <td>1</td>\n",
       "      <td>0</td>\n",
       "      <td>3</td>\n",
       "      <td>Braund, Mr. Owen Harris</td>\n",
       "      <td>male</td>\n",
       "      <td>22.0</td>\n",
       "      <td>1</td>\n",
       "      <td>0</td>\n",
       "      <td>A/5 21171</td>\n",
       "      <td>7.2500</td>\n",
       "      <td>NaN</td>\n",
       "      <td>S</td>\n",
       "    </tr>\n",
       "    <tr>\n",
       "      <th>1</th>\n",
       "      <td>2</td>\n",
       "      <td>1</td>\n",
       "      <td>1</td>\n",
       "      <td>Cumings, Mrs. John Bradley (Florence Briggs Th...</td>\n",
       "      <td>female</td>\n",
       "      <td>38.0</td>\n",
       "      <td>1</td>\n",
       "      <td>0</td>\n",
       "      <td>PC 17599</td>\n",
       "      <td>71.2833</td>\n",
       "      <td>C85</td>\n",
       "      <td>C</td>\n",
       "    </tr>\n",
       "    <tr>\n",
       "      <th>2</th>\n",
       "      <td>3</td>\n",
       "      <td>1</td>\n",
       "      <td>3</td>\n",
       "      <td>Heikkinen, Miss. Laina</td>\n",
       "      <td>female</td>\n",
       "      <td>26.0</td>\n",
       "      <td>0</td>\n",
       "      <td>0</td>\n",
       "      <td>STON/O2. 3101282</td>\n",
       "      <td>7.9250</td>\n",
       "      <td>NaN</td>\n",
       "      <td>S</td>\n",
       "    </tr>\n",
       "    <tr>\n",
       "      <th>3</th>\n",
       "      <td>4</td>\n",
       "      <td>1</td>\n",
       "      <td>1</td>\n",
       "      <td>Futrelle, Mrs. Jacques Heath (Lily May Peel)</td>\n",
       "      <td>female</td>\n",
       "      <td>35.0</td>\n",
       "      <td>1</td>\n",
       "      <td>0</td>\n",
       "      <td>113803</td>\n",
       "      <td>53.1000</td>\n",
       "      <td>C123</td>\n",
       "      <td>S</td>\n",
       "    </tr>\n",
       "    <tr>\n",
       "      <th>4</th>\n",
       "      <td>5</td>\n",
       "      <td>0</td>\n",
       "      <td>3</td>\n",
       "      <td>Allen, Mr. William Henry</td>\n",
       "      <td>male</td>\n",
       "      <td>35.0</td>\n",
       "      <td>0</td>\n",
       "      <td>0</td>\n",
       "      <td>373450</td>\n",
       "      <td>8.0500</td>\n",
       "      <td>NaN</td>\n",
       "      <td>S</td>\n",
       "    </tr>\n",
       "  </tbody>\n",
       "</table>\n",
       "</div>"
      ],
      "text/plain": [
       "   PassengerId  Survived  Pclass  \\\n",
       "0            1         0       3   \n",
       "1            2         1       1   \n",
       "2            3         1       3   \n",
       "3            4         1       1   \n",
       "4            5         0       3   \n",
       "\n",
       "                                                Name     Sex   Age  SibSp  \\\n",
       "0                            Braund, Mr. Owen Harris    male  22.0      1   \n",
       "1  Cumings, Mrs. John Bradley (Florence Briggs Th...  female  38.0      1   \n",
       "2                             Heikkinen, Miss. Laina  female  26.0      0   \n",
       "3       Futrelle, Mrs. Jacques Heath (Lily May Peel)  female  35.0      1   \n",
       "4                           Allen, Mr. William Henry    male  35.0      0   \n",
       "\n",
       "   Parch            Ticket     Fare Cabin Embarked  \n",
       "0      0         A/5 21171   7.2500   NaN        S  \n",
       "1      0          PC 17599  71.2833   C85        C  \n",
       "2      0  STON/O2. 3101282   7.9250   NaN        S  \n",
       "3      0            113803  53.1000  C123        S  \n",
       "4      0            373450   8.0500   NaN        S  "
      ]
     },
     "execution_count": 2,
     "metadata": {},
     "output_type": "execute_result"
    }
   ],
   "source": [
    "# Reading the train set\n",
    "train_data = pd.read_csv(\"/kaggle/input/titanic/train.csv\")\n",
    "train_data.head()"
   ]
  },
  {
   "cell_type": "markdown",
   "id": "57726bd4",
   "metadata": {
    "papermill": {
     "duration": 0.013473,
     "end_time": "2023-09-07T19:00:03.338488",
     "exception": false,
     "start_time": "2023-09-07T19:00:03.325015",
     "status": "completed"
    },
    "tags": []
   },
   "source": [
    "# 1. Exploring the data by:\n",
    "* Age.\n",
    "* Gender.\n",
    "* Class"
   ]
  },
  {
   "cell_type": "markdown",
   "id": "38aaba82",
   "metadata": {
    "papermill": {
     "duration": 0.013365,
     "end_time": "2023-09-07T19:00:03.365814",
     "exception": false,
     "start_time": "2023-09-07T19:00:03.352449",
     "status": "completed"
    },
    "tags": []
   },
   "source": [
    "# 1.1 Age\n"
   ]
  },
  {
   "cell_type": "code",
   "execution_count": 3,
   "id": "eb844698",
   "metadata": {
    "execution": {
     "iopub.execute_input": "2023-09-07T19:00:03.395767Z",
     "iopub.status.busy": "2023-09-07T19:00:03.395377Z",
     "iopub.status.idle": "2023-09-07T19:00:03.413146Z",
     "shell.execute_reply": "2023-09-07T19:00:03.412163Z"
    },
    "papermill": {
     "duration": 0.035635,
     "end_time": "2023-09-07T19:00:03.415954",
     "exception": false,
     "start_time": "2023-09-07T19:00:03.380319",
     "status": "completed"
    },
    "tags": []
   },
   "outputs": [
    {
     "data": {
      "text/plain": [
       "count    290.000000\n",
       "mean      28.343690\n",
       "std       14.950952\n",
       "min        0.420000\n",
       "25%       19.000000\n",
       "50%       28.000000\n",
       "75%       36.000000\n",
       "max       80.000000\n",
       "Name: Age, dtype: float64"
      ]
     },
     "execution_count": 3,
     "metadata": {},
     "output_type": "execute_result"
    }
   ],
   "source": [
    "# Age\n",
    "Survivor_Age = train_data.loc[train_data.Survived == 1][\"Age\"]\n",
    "Survivor_Age.describe()"
   ]
  },
  {
   "cell_type": "code",
   "execution_count": 4,
   "id": "4ceeb62d",
   "metadata": {
    "execution": {
     "iopub.execute_input": "2023-09-07T19:00:03.451976Z",
     "iopub.status.busy": "2023-09-07T19:00:03.451456Z",
     "iopub.status.idle": "2023-09-07T19:00:03.468246Z",
     "shell.execute_reply": "2023-09-07T19:00:03.466356Z"
    },
    "papermill": {
     "duration": 0.037531,
     "end_time": "2023-09-07T19:00:03.471532",
     "exception": false,
     "start_time": "2023-09-07T19:00:03.434001",
     "status": "completed"
    },
    "tags": []
   },
   "outputs": [
    {
     "data": {
      "text/plain": [
       "count    424.000000\n",
       "mean      30.626179\n",
       "std       14.172110\n",
       "min        1.000000\n",
       "25%       21.000000\n",
       "50%       28.000000\n",
       "75%       39.000000\n",
       "max       74.000000\n",
       "Name: Age, dtype: float64"
      ]
     },
     "execution_count": 4,
     "metadata": {},
     "output_type": "execute_result"
    }
   ],
   "source": [
    "Death_Age = train_data.loc[train_data.Survived == 0][\"Age\"]\n",
    "Death_Age.describe()"
   ]
  },
  {
   "cell_type": "code",
   "execution_count": 5,
   "id": "7881b98c",
   "metadata": {
    "execution": {
     "iopub.execute_input": "2023-09-07T19:00:03.504457Z",
     "iopub.status.busy": "2023-09-07T19:00:03.503454Z",
     "iopub.status.idle": "2023-09-07T19:00:03.931046Z",
     "shell.execute_reply": "2023-09-07T19:00:03.929874Z"
    },
    "papermill": {
     "duration": 0.447661,
     "end_time": "2023-09-07T19:00:03.934229",
     "exception": false,
     "start_time": "2023-09-07T19:00:03.486568",
     "status": "completed"
    },
    "tags": []
   },
   "outputs": [
    {
     "data": {
      "text/plain": [
       "Text(0, 0.5, 'Frequency')"
      ]
     },
     "execution_count": 5,
     "metadata": {},
     "output_type": "execute_result"
    },
    {
     "data": {
      "image/png": "[encoded data removed]",
      "text/plain": [
       "<Figure size 640x480 with 1 Axes>"
      ]
     },
     "metadata": {},
     "output_type": "display_data"
    }
   ],
   "source": [
    "# For ghapics\n",
    "import matplotlib.pyplot as plt\n",
    "from importlib import reload\n",
    "plt=reload(plt)\n",
    "\n",
    "\n",
    "n, bins, patches = plt.hist(Survivor_Age, color= 'blue')\n",
    "n, bins, patches = plt.hist(Death_Age, color= \"red\", histtype=\"step\")\n",
    "plt.title(\"Survived_Age\")\n",
    "plt.xlabel(\"Age\")\n",
    "plt.ylabel(\"Frequency\")\n",
    "\n"
   ]
  },
  {
   "cell_type": "markdown",
   "id": "18c79ff0",
   "metadata": {
    "papermill": {
     "duration": 0.018253,
     "end_time": "2023-09-07T19:00:03.973601",
     "exception": false,
     "start_time": "2023-09-07T19:00:03.955348",
     "status": "completed"
    },
    "tags": []
   },
   "source": [
    "# 1.2 Gender"
   ]
  },
  {
   "cell_type": "code",
   "execution_count": 6,
   "id": "1324dbda",
   "metadata": {
    "execution": {
     "iopub.execute_input": "2023-09-07T19:00:04.006492Z",
     "iopub.status.busy": "2023-09-07T19:00:04.005071Z",
     "iopub.status.idle": "2023-09-07T19:00:04.031114Z",
     "shell.execute_reply": "2023-09-07T19:00:04.029899Z"
    },
    "papermill": {
     "duration": 0.045388,
     "end_time": "2023-09-07T19:00:04.034126",
     "exception": false,
     "start_time": "2023-09-07T19:00:03.988738",
     "status": "completed"
    },
    "tags": []
   },
   "outputs": [
    {
     "data": {
      "text/html": [
       "<div>\n",
       "<style scoped>\n",
       "    .dataframe tbody tr th:only-of-type {\n",
       "        vertical-align: middle;\n",
       "    }\n",
       "\n",
       "    .dataframe tbody tr th {\n",
       "        vertical-align: top;\n",
       "    }\n",
       "\n",
       "    .dataframe thead th {\n",
       "        text-align: right;\n",
       "    }\n",
       "</style>\n",
       "<table border=\"1\" class=\"dataframe\">\n",
       "  <thead>\n",
       "    <tr style=\"text-align: right;\">\n",
       "      <th></th>\n",
       "      <th>Survived</th>\n",
       "      <th>Age</th>\n",
       "    </tr>\n",
       "  </thead>\n",
       "  <tbody>\n",
       "    <tr>\n",
       "      <th>count</th>\n",
       "      <td>314.000000</td>\n",
       "      <td>261.000000</td>\n",
       "    </tr>\n",
       "    <tr>\n",
       "      <th>mean</th>\n",
       "      <td>0.742038</td>\n",
       "      <td>27.915709</td>\n",
       "    </tr>\n",
       "    <tr>\n",
       "      <th>std</th>\n",
       "      <td>0.438211</td>\n",
       "      <td>14.110146</td>\n",
       "    </tr>\n",
       "    <tr>\n",
       "      <th>min</th>\n",
       "      <td>0.000000</td>\n",
       "      <td>0.750000</td>\n",
       "    </tr>\n",
       "    <tr>\n",
       "      <th>25%</th>\n",
       "      <td>0.000000</td>\n",
       "      <td>18.000000</td>\n",
       "    </tr>\n",
       "    <tr>\n",
       "      <th>50%</th>\n",
       "      <td>1.000000</td>\n",
       "      <td>27.000000</td>\n",
       "    </tr>\n",
       "    <tr>\n",
       "      <th>75%</th>\n",
       "      <td>1.000000</td>\n",
       "      <td>37.000000</td>\n",
       "    </tr>\n",
       "    <tr>\n",
       "      <th>max</th>\n",
       "      <td>1.000000</td>\n",
       "      <td>63.000000</td>\n",
       "    </tr>\n",
       "  </tbody>\n",
       "</table>\n",
       "</div>"
      ],
      "text/plain": [
       "         Survived         Age\n",
       "count  314.000000  261.000000\n",
       "mean     0.742038   27.915709\n",
       "std      0.438211   14.110146\n",
       "min      0.000000    0.750000\n",
       "25%      0.000000   18.000000\n",
       "50%      1.000000   27.000000\n",
       "75%      1.000000   37.000000\n",
       "max      1.000000   63.000000"
      ]
     },
     "execution_count": 6,
     "metadata": {},
     "output_type": "execute_result"
    }
   ],
   "source": [
    "# By gender\n",
    "women_DS = train_data.loc[train_data.Sex == \"female\"][[\"Survived\",\"Age\"]]\n",
    "women_DS.describe()\n"
   ]
  },
  {
   "cell_type": "code",
   "execution_count": 7,
   "id": "9681e087",
   "metadata": {
    "execution": {
     "iopub.execute_input": "2023-09-07T19:00:04.069209Z",
     "iopub.status.busy": "2023-09-07T19:00:04.067897Z",
     "iopub.status.idle": "2023-09-07T19:00:04.088199Z",
     "shell.execute_reply": "2023-09-07T19:00:04.087031Z"
    },
    "papermill": {
     "duration": 0.039568,
     "end_time": "2023-09-07T19:00:04.090853",
     "exception": false,
     "start_time": "2023-09-07T19:00:04.051285",
     "status": "completed"
    },
    "tags": []
   },
   "outputs": [
    {
     "data": {
      "text/html": [
       "<div>\n",
       "<style scoped>\n",
       "    .dataframe tbody tr th:only-of-type {\n",
       "        vertical-align: middle;\n",
       "    }\n",
       "\n",
       "    .dataframe tbody tr th {\n",
       "        vertical-align: top;\n",
       "    }\n",
       "\n",
       "    .dataframe thead th {\n",
       "        text-align: right;\n",
       "    }\n",
       "</style>\n",
       "<table border=\"1\" class=\"dataframe\">\n",
       "  <thead>\n",
       "    <tr style=\"text-align: right;\">\n",
       "      <th></th>\n",
       "      <th>Survived</th>\n",
       "      <th>Age</th>\n",
       "    </tr>\n",
       "  </thead>\n",
       "  <tbody>\n",
       "    <tr>\n",
       "      <th>count</th>\n",
       "      <td>577.000000</td>\n",
       "      <td>453.000000</td>\n",
       "    </tr>\n",
       "    <tr>\n",
       "      <th>mean</th>\n",
       "      <td>0.188908</td>\n",
       "      <td>30.726645</td>\n",
       "    </tr>\n",
       "    <tr>\n",
       "      <th>std</th>\n",
       "      <td>0.391775</td>\n",
       "      <td>14.678201</td>\n",
       "    </tr>\n",
       "    <tr>\n",
       "      <th>min</th>\n",
       "      <td>0.000000</td>\n",
       "      <td>0.420000</td>\n",
       "    </tr>\n",
       "    <tr>\n",
       "      <th>25%</th>\n",
       "      <td>0.000000</td>\n",
       "      <td>21.000000</td>\n",
       "    </tr>\n",
       "    <tr>\n",
       "      <th>50%</th>\n",
       "      <td>0.000000</td>\n",
       "      <td>29.000000</td>\n",
       "    </tr>\n",
       "    <tr>\n",
       "      <th>75%</th>\n",
       "      <td>0.000000</td>\n",
       "      <td>39.000000</td>\n",
       "    </tr>\n",
       "    <tr>\n",
       "      <th>max</th>\n",
       "      <td>1.000000</td>\n",
       "      <td>80.000000</td>\n",
       "    </tr>\n",
       "  </tbody>\n",
       "</table>\n",
       "</div>"
      ],
      "text/plain": [
       "         Survived         Age\n",
       "count  577.000000  453.000000\n",
       "mean     0.188908   30.726645\n",
       "std      0.391775   14.678201\n",
       "min      0.000000    0.420000\n",
       "25%      0.000000   21.000000\n",
       "50%      0.000000   29.000000\n",
       "75%      0.000000   39.000000\n",
       "max      1.000000   80.000000"
      ]
     },
     "execution_count": 7,
     "metadata": {},
     "output_type": "execute_result"
    }
   ],
   "source": [
    "men_DS = train_data.loc[train_data.Sex == \"male\"][[\"Survived\", \"Age\"]]\n",
    "men_DS.describe()"
   ]
  },
  {
   "cell_type": "markdown",
   "id": "34710fbe",
   "metadata": {
    "papermill": {
     "duration": 0.015093,
     "end_time": "2023-09-07T19:00:04.121868",
     "exception": false,
     "start_time": "2023-09-07T19:00:04.106775",
     "status": "completed"
    },
    "tags": []
   },
   "source": []
  },
  {
   "cell_type": "markdown",
   "id": "bc977c47",
   "metadata": {
    "papermill": {
     "duration": 0.015121,
     "end_time": "2023-09-07T19:00:04.152841",
     "exception": false,
     "start_time": "2023-09-07T19:00:04.137720",
     "status": "completed"
    },
    "tags": []
   },
   "source": [
    "# 1.3 Class"
   ]
  },
  {
   "cell_type": "code",
   "execution_count": 8,
   "id": "9d95247e",
   "metadata": {
    "execution": {
     "iopub.execute_input": "2023-09-07T19:00:04.186440Z",
     "iopub.status.busy": "2023-09-07T19:00:04.185547Z",
     "iopub.status.idle": "2023-09-07T19:00:04.213617Z",
     "shell.execute_reply": "2023-09-07T19:00:04.212399Z"
    },
    "papermill": {
     "duration": 0.047894,
     "end_time": "2023-09-07T19:00:04.216160",
     "exception": false,
     "start_time": "2023-09-07T19:00:04.168266",
     "status": "completed"
    },
    "tags": []
   },
   "outputs": [
    {
     "data": {
      "text/html": [
       "<div>\n",
       "<style scoped>\n",
       "    .dataframe tbody tr th:only-of-type {\n",
       "        vertical-align: middle;\n",
       "    }\n",
       "\n",
       "    .dataframe tbody tr th {\n",
       "        vertical-align: top;\n",
       "    }\n",
       "\n",
       "    .dataframe thead th {\n",
       "        text-align: right;\n",
       "    }\n",
       "</style>\n",
       "<table border=\"1\" class=\"dataframe\">\n",
       "  <thead>\n",
       "    <tr style=\"text-align: right;\">\n",
       "      <th></th>\n",
       "      <th>Pclass</th>\n",
       "      <th>Survived</th>\n",
       "      <th>Age</th>\n",
       "      <th>PassengerId</th>\n",
       "    </tr>\n",
       "  </thead>\n",
       "  <tbody>\n",
       "    <tr>\n",
       "      <th>count</th>\n",
       "      <td>216.0</td>\n",
       "      <td>216.000000</td>\n",
       "      <td>186.000000</td>\n",
       "      <td>216.000000</td>\n",
       "    </tr>\n",
       "    <tr>\n",
       "      <th>mean</th>\n",
       "      <td>1.0</td>\n",
       "      <td>0.629630</td>\n",
       "      <td>38.233441</td>\n",
       "      <td>461.597222</td>\n",
       "    </tr>\n",
       "    <tr>\n",
       "      <th>std</th>\n",
       "      <td>0.0</td>\n",
       "      <td>0.484026</td>\n",
       "      <td>14.802856</td>\n",
       "      <td>246.737616</td>\n",
       "    </tr>\n",
       "    <tr>\n",
       "      <th>min</th>\n",
       "      <td>1.0</td>\n",
       "      <td>0.000000</td>\n",
       "      <td>0.920000</td>\n",
       "      <td>2.000000</td>\n",
       "    </tr>\n",
       "    <tr>\n",
       "      <th>25%</th>\n",
       "      <td>1.0</td>\n",
       "      <td>0.000000</td>\n",
       "      <td>27.000000</td>\n",
       "      <td>270.750000</td>\n",
       "    </tr>\n",
       "    <tr>\n",
       "      <th>50%</th>\n",
       "      <td>1.0</td>\n",
       "      <td>1.000000</td>\n",
       "      <td>37.000000</td>\n",
       "      <td>472.000000</td>\n",
       "    </tr>\n",
       "    <tr>\n",
       "      <th>75%</th>\n",
       "      <td>1.0</td>\n",
       "      <td>1.000000</td>\n",
       "      <td>49.000000</td>\n",
       "      <td>670.500000</td>\n",
       "    </tr>\n",
       "    <tr>\n",
       "      <th>max</th>\n",
       "      <td>1.0</td>\n",
       "      <td>1.000000</td>\n",
       "      <td>80.000000</td>\n",
       "      <td>890.000000</td>\n",
       "    </tr>\n",
       "  </tbody>\n",
       "</table>\n",
       "</div>"
      ],
      "text/plain": [
       "       Pclass    Survived         Age  PassengerId\n",
       "count   216.0  216.000000  186.000000   216.000000\n",
       "mean      1.0    0.629630   38.233441   461.597222\n",
       "std       0.0    0.484026   14.802856   246.737616\n",
       "min       1.0    0.000000    0.920000     2.000000\n",
       "25%       1.0    0.000000   27.000000   270.750000\n",
       "50%       1.0    1.000000   37.000000   472.000000\n",
       "75%       1.0    1.000000   49.000000   670.500000\n",
       "max       1.0    1.000000   80.000000   890.000000"
      ]
     },
     "execution_count": 8,
     "metadata": {},
     "output_type": "execute_result"
    }
   ],
   "source": [
    "# By tiket class \n",
    "First_class = train_data.loc[train_data.Pclass == 1][[\"Pclass\",\"Survived\",\"Age\",\"Sex\",\"PassengerId\"]]\n",
    "First_class.describe()"
   ]
  },
  {
   "cell_type": "code",
   "execution_count": 9,
   "id": "915d7671",
   "metadata": {
    "execution": {
     "iopub.execute_input": "2023-09-07T19:00:04.250601Z",
     "iopub.status.busy": "2023-09-07T19:00:04.249793Z",
     "iopub.status.idle": "2023-09-07T19:00:04.267673Z",
     "shell.execute_reply": "2023-09-07T19:00:04.266034Z"
    },
    "papermill": {
     "duration": 0.038504,
     "end_time": "2023-09-07T19:00:04.270510",
     "exception": false,
     "start_time": "2023-09-07T19:00:04.232006",
     "status": "completed"
    },
    "tags": []
   },
   "outputs": [
    {
     "data": {
      "text/html": [
       "<div>\n",
       "<style scoped>\n",
       "    .dataframe tbody tr th:only-of-type {\n",
       "        vertical-align: middle;\n",
       "    }\n",
       "\n",
       "    .dataframe tbody tr th {\n",
       "        vertical-align: top;\n",
       "    }\n",
       "\n",
       "    .dataframe thead th {\n",
       "        text-align: right;\n",
       "    }\n",
       "</style>\n",
       "<table border=\"1\" class=\"dataframe\">\n",
       "  <thead>\n",
       "    <tr style=\"text-align: right;\">\n",
       "      <th></th>\n",
       "      <th>Pclass</th>\n",
       "      <th>Survived</th>\n",
       "      <th>Age</th>\n",
       "      <th>Sex</th>\n",
       "      <th>PassengerId</th>\n",
       "    </tr>\n",
       "  </thead>\n",
       "  <tbody>\n",
       "    <tr>\n",
       "      <th>1</th>\n",
       "      <td>1</td>\n",
       "      <td>1</td>\n",
       "      <td>38.0</td>\n",
       "      <td>female</td>\n",
       "      <td>2</td>\n",
       "    </tr>\n",
       "    <tr>\n",
       "      <th>3</th>\n",
       "      <td>1</td>\n",
       "      <td>1</td>\n",
       "      <td>35.0</td>\n",
       "      <td>female</td>\n",
       "      <td>4</td>\n",
       "    </tr>\n",
       "    <tr>\n",
       "      <th>6</th>\n",
       "      <td>1</td>\n",
       "      <td>0</td>\n",
       "      <td>54.0</td>\n",
       "      <td>male</td>\n",
       "      <td>7</td>\n",
       "    </tr>\n",
       "    <tr>\n",
       "      <th>11</th>\n",
       "      <td>1</td>\n",
       "      <td>1</td>\n",
       "      <td>58.0</td>\n",
       "      <td>female</td>\n",
       "      <td>12</td>\n",
       "    </tr>\n",
       "    <tr>\n",
       "      <th>23</th>\n",
       "      <td>1</td>\n",
       "      <td>1</td>\n",
       "      <td>28.0</td>\n",
       "      <td>male</td>\n",
       "      <td>24</td>\n",
       "    </tr>\n",
       "    <tr>\n",
       "      <th>27</th>\n",
       "      <td>1</td>\n",
       "      <td>0</td>\n",
       "      <td>19.0</td>\n",
       "      <td>male</td>\n",
       "      <td>28</td>\n",
       "    </tr>\n",
       "    <tr>\n",
       "      <th>30</th>\n",
       "      <td>1</td>\n",
       "      <td>0</td>\n",
       "      <td>40.0</td>\n",
       "      <td>male</td>\n",
       "      <td>31</td>\n",
       "    </tr>\n",
       "    <tr>\n",
       "      <th>31</th>\n",
       "      <td>1</td>\n",
       "      <td>1</td>\n",
       "      <td>NaN</td>\n",
       "      <td>female</td>\n",
       "      <td>32</td>\n",
       "    </tr>\n",
       "    <tr>\n",
       "      <th>34</th>\n",
       "      <td>1</td>\n",
       "      <td>0</td>\n",
       "      <td>28.0</td>\n",
       "      <td>male</td>\n",
       "      <td>35</td>\n",
       "    </tr>\n",
       "    <tr>\n",
       "      <th>35</th>\n",
       "      <td>1</td>\n",
       "      <td>0</td>\n",
       "      <td>42.0</td>\n",
       "      <td>male</td>\n",
       "      <td>36</td>\n",
       "    </tr>\n",
       "    <tr>\n",
       "      <th>52</th>\n",
       "      <td>1</td>\n",
       "      <td>1</td>\n",
       "      <td>49.0</td>\n",
       "      <td>female</td>\n",
       "      <td>53</td>\n",
       "    </tr>\n",
       "    <tr>\n",
       "      <th>54</th>\n",
       "      <td>1</td>\n",
       "      <td>0</td>\n",
       "      <td>65.0</td>\n",
       "      <td>male</td>\n",
       "      <td>55</td>\n",
       "    </tr>\n",
       "    <tr>\n",
       "      <th>55</th>\n",
       "      <td>1</td>\n",
       "      <td>1</td>\n",
       "      <td>NaN</td>\n",
       "      <td>male</td>\n",
       "      <td>56</td>\n",
       "    </tr>\n",
       "    <tr>\n",
       "      <th>61</th>\n",
       "      <td>1</td>\n",
       "      <td>1</td>\n",
       "      <td>38.0</td>\n",
       "      <td>female</td>\n",
       "      <td>62</td>\n",
       "    </tr>\n",
       "    <tr>\n",
       "      <th>62</th>\n",
       "      <td>1</td>\n",
       "      <td>0</td>\n",
       "      <td>45.0</td>\n",
       "      <td>male</td>\n",
       "      <td>63</td>\n",
       "    </tr>\n",
       "    <tr>\n",
       "      <th>64</th>\n",
       "      <td>1</td>\n",
       "      <td>0</td>\n",
       "      <td>NaN</td>\n",
       "      <td>male</td>\n",
       "      <td>65</td>\n",
       "    </tr>\n",
       "    <tr>\n",
       "      <th>83</th>\n",
       "      <td>1</td>\n",
       "      <td>0</td>\n",
       "      <td>28.0</td>\n",
       "      <td>male</td>\n",
       "      <td>84</td>\n",
       "    </tr>\n",
       "    <tr>\n",
       "      <th>88</th>\n",
       "      <td>1</td>\n",
       "      <td>1</td>\n",
       "      <td>23.0</td>\n",
       "      <td>female</td>\n",
       "      <td>89</td>\n",
       "    </tr>\n",
       "    <tr>\n",
       "      <th>92</th>\n",
       "      <td>1</td>\n",
       "      <td>0</td>\n",
       "      <td>46.0</td>\n",
       "      <td>male</td>\n",
       "      <td>93</td>\n",
       "    </tr>\n",
       "    <tr>\n",
       "      <th>96</th>\n",
       "      <td>1</td>\n",
       "      <td>0</td>\n",
       "      <td>71.0</td>\n",
       "      <td>male</td>\n",
       "      <td>97</td>\n",
       "    </tr>\n",
       "  </tbody>\n",
       "</table>\n",
       "</div>"
      ],
      "text/plain": [
       "    Pclass  Survived   Age     Sex  PassengerId\n",
       "1        1         1  38.0  female            2\n",
       "3        1         1  35.0  female            4\n",
       "6        1         0  54.0    male            7\n",
       "11       1         1  58.0  female           12\n",
       "23       1         1  28.0    male           24\n",
       "27       1         0  19.0    male           28\n",
       "30       1         0  40.0    male           31\n",
       "31       1         1   NaN  female           32\n",
       "34       1         0  28.0    male           35\n",
       "35       1         0  42.0    male           36\n",
       "52       1         1  49.0  female           53\n",
       "54       1         0  65.0    male           55\n",
       "55       1         1   NaN    male           56\n",
       "61       1         1  38.0  female           62\n",
       "62       1         0  45.0    male           63\n",
       "64       1         0   NaN    male           65\n",
       "83       1         0  28.0    male           84\n",
       "88       1         1  23.0  female           89\n",
       "92       1         0  46.0    male           93\n",
       "96       1         0  71.0    male           97"
      ]
     },
     "execution_count": 9,
     "metadata": {},
     "output_type": "execute_result"
    }
   ],
   "source": [
    "First_class.head(20)"
   ]
  },
  {
   "cell_type": "code",
   "execution_count": 10,
   "id": "fc56f602",
   "metadata": {
    "execution": {
     "iopub.execute_input": "2023-09-07T19:00:04.306914Z",
     "iopub.status.busy": "2023-09-07T19:00:04.305347Z",
     "iopub.status.idle": "2023-09-07T19:00:04.325531Z",
     "shell.execute_reply": "2023-09-07T19:00:04.324377Z"
    },
    "papermill": {
     "duration": 0.040042,
     "end_time": "2023-09-07T19:00:04.328075",
     "exception": false,
     "start_time": "2023-09-07T19:00:04.288033",
     "status": "completed"
    },
    "tags": []
   },
   "outputs": [
    {
     "data": {
      "text/html": [
       "<div>\n",
       "<style scoped>\n",
       "    .dataframe tbody tr th:only-of-type {\n",
       "        vertical-align: middle;\n",
       "    }\n",
       "\n",
       "    .dataframe tbody tr th {\n",
       "        vertical-align: top;\n",
       "    }\n",
       "\n",
       "    .dataframe thead th {\n",
       "        text-align: right;\n",
       "    }\n",
       "</style>\n",
       "<table border=\"1\" class=\"dataframe\">\n",
       "  <thead>\n",
       "    <tr style=\"text-align: right;\">\n",
       "      <th></th>\n",
       "      <th>Pclass</th>\n",
       "      <th>Survived</th>\n",
       "      <th>Age</th>\n",
       "      <th>Sex</th>\n",
       "      <th>PassengerId</th>\n",
       "    </tr>\n",
       "  </thead>\n",
       "  <tbody>\n",
       "    <tr>\n",
       "      <th>9</th>\n",
       "      <td>2</td>\n",
       "      <td>1</td>\n",
       "      <td>14.0</td>\n",
       "      <td>female</td>\n",
       "      <td>10</td>\n",
       "    </tr>\n",
       "    <tr>\n",
       "      <th>15</th>\n",
       "      <td>2</td>\n",
       "      <td>1</td>\n",
       "      <td>55.0</td>\n",
       "      <td>female</td>\n",
       "      <td>16</td>\n",
       "    </tr>\n",
       "    <tr>\n",
       "      <th>17</th>\n",
       "      <td>2</td>\n",
       "      <td>1</td>\n",
       "      <td>NaN</td>\n",
       "      <td>male</td>\n",
       "      <td>18</td>\n",
       "    </tr>\n",
       "    <tr>\n",
       "      <th>20</th>\n",
       "      <td>2</td>\n",
       "      <td>0</td>\n",
       "      <td>35.0</td>\n",
       "      <td>male</td>\n",
       "      <td>21</td>\n",
       "    </tr>\n",
       "    <tr>\n",
       "      <th>21</th>\n",
       "      <td>2</td>\n",
       "      <td>1</td>\n",
       "      <td>34.0</td>\n",
       "      <td>male</td>\n",
       "      <td>22</td>\n",
       "    </tr>\n",
       "  </tbody>\n",
       "</table>\n",
       "</div>"
      ],
      "text/plain": [
       "    Pclass  Survived   Age     Sex  PassengerId\n",
       "9        2         1  14.0  female           10\n",
       "15       2         1  55.0  female           16\n",
       "17       2         1   NaN    male           18\n",
       "20       2         0  35.0    male           21\n",
       "21       2         1  34.0    male           22"
      ]
     },
     "execution_count": 10,
     "metadata": {},
     "output_type": "execute_result"
    }
   ],
   "source": [
    "Second_class = train_data.loc[train_data.Pclass == 2][[\"Pclass\",\"Survived\",\"Age\",\"Sex\",\"PassengerId\"]]\n",
    "Second_class.head()"
   ]
  },
  {
   "cell_type": "code",
   "execution_count": 11,
   "id": "405131d4",
   "metadata": {
    "execution": {
     "iopub.execute_input": "2023-09-07T19:00:04.364216Z",
     "iopub.status.busy": "2023-09-07T19:00:04.363827Z",
     "iopub.status.idle": "2023-09-07T19:00:04.392899Z",
     "shell.execute_reply": "2023-09-07T19:00:04.391443Z"
    },
    "papermill": {
     "duration": 0.049899,
     "end_time": "2023-09-07T19:00:04.395504",
     "exception": false,
     "start_time": "2023-09-07T19:00:04.345605",
     "status": "completed"
    },
    "tags": []
   },
   "outputs": [
    {
     "data": {
      "text/html": [
       "<div>\n",
       "<style scoped>\n",
       "    .dataframe tbody tr th:only-of-type {\n",
       "        vertical-align: middle;\n",
       "    }\n",
       "\n",
       "    .dataframe tbody tr th {\n",
       "        vertical-align: top;\n",
       "    }\n",
       "\n",
       "    .dataframe thead th {\n",
       "        text-align: right;\n",
       "    }\n",
       "</style>\n",
       "<table border=\"1\" class=\"dataframe\">\n",
       "  <thead>\n",
       "    <tr style=\"text-align: right;\">\n",
       "      <th></th>\n",
       "      <th>Pclass</th>\n",
       "      <th>Survived</th>\n",
       "      <th>Age</th>\n",
       "      <th>PassengerId</th>\n",
       "    </tr>\n",
       "  </thead>\n",
       "  <tbody>\n",
       "    <tr>\n",
       "      <th>count</th>\n",
       "      <td>491.0</td>\n",
       "      <td>491.000000</td>\n",
       "      <td>355.000000</td>\n",
       "      <td>491.000000</td>\n",
       "    </tr>\n",
       "    <tr>\n",
       "      <th>mean</th>\n",
       "      <td>3.0</td>\n",
       "      <td>0.242363</td>\n",
       "      <td>25.140620</td>\n",
       "      <td>439.154786</td>\n",
       "    </tr>\n",
       "    <tr>\n",
       "      <th>std</th>\n",
       "      <td>0.0</td>\n",
       "      <td>0.428949</td>\n",
       "      <td>12.495398</td>\n",
       "      <td>264.441453</td>\n",
       "    </tr>\n",
       "    <tr>\n",
       "      <th>min</th>\n",
       "      <td>3.0</td>\n",
       "      <td>0.000000</td>\n",
       "      <td>0.420000</td>\n",
       "      <td>1.000000</td>\n",
       "    </tr>\n",
       "    <tr>\n",
       "      <th>25%</th>\n",
       "      <td>3.0</td>\n",
       "      <td>0.000000</td>\n",
       "      <td>18.000000</td>\n",
       "      <td>200.000000</td>\n",
       "    </tr>\n",
       "    <tr>\n",
       "      <th>50%</th>\n",
       "      <td>3.0</td>\n",
       "      <td>0.000000</td>\n",
       "      <td>24.000000</td>\n",
       "      <td>432.000000</td>\n",
       "    </tr>\n",
       "    <tr>\n",
       "      <th>75%</th>\n",
       "      <td>3.0</td>\n",
       "      <td>0.000000</td>\n",
       "      <td>32.000000</td>\n",
       "      <td>666.500000</td>\n",
       "    </tr>\n",
       "    <tr>\n",
       "      <th>max</th>\n",
       "      <td>3.0</td>\n",
       "      <td>1.000000</td>\n",
       "      <td>74.000000</td>\n",
       "      <td>891.000000</td>\n",
       "    </tr>\n",
       "  </tbody>\n",
       "</table>\n",
       "</div>"
      ],
      "text/plain": [
       "       Pclass    Survived         Age  PassengerId\n",
       "count   491.0  491.000000  355.000000   491.000000\n",
       "mean      3.0    0.242363   25.140620   439.154786\n",
       "std       0.0    0.428949   12.495398   264.441453\n",
       "min       3.0    0.000000    0.420000     1.000000\n",
       "25%       3.0    0.000000   18.000000   200.000000\n",
       "50%       3.0    0.000000   24.000000   432.000000\n",
       "75%       3.0    0.000000   32.000000   666.500000\n",
       "max       3.0    1.000000   74.000000   891.000000"
      ]
     },
     "execution_count": 11,
     "metadata": {},
     "output_type": "execute_result"
    }
   ],
   "source": [
    "Third_class = train_data.loc[train_data.Pclass == 3][[\"Pclass\",\"Survived\",\"Age\",\"Sex\", \"PassengerId\"]]\n",
    "Third_class.describe()\n"
   ]
  },
  {
   "cell_type": "code",
   "execution_count": null,
   "id": "cdd54d3e",
   "metadata": {
    "papermill": {
     "duration": 0.016919,
     "end_time": "2023-09-07T19:00:04.429510",
     "exception": false,
     "start_time": "2023-09-07T19:00:04.412591",
     "status": "completed"
    },
    "tags": []
   },
   "outputs": [],
   "source": []
  },
  {
   "cell_type": "markdown",
   "id": "ee6da0a5",
   "metadata": {
    "papermill": {
     "duration": 0.01747,
     "end_time": "2023-09-07T19:00:04.464063",
     "exception": false,
     "start_time": "2023-09-07T19:00:04.446593",
     "status": "completed"
    },
    "tags": []
   },
   "source": [
    "# Modeling\n",
    "Now that I've some notion of the main factors that affect the behavior of survived passengers data, it's time for the modeling part.\n"
   ]
  },
  {
   "cell_type": "markdown",
   "id": "a173a56f",
   "metadata": {
    "papermill": {
     "duration": 0.016099,
     "end_time": "2023-09-07T19:00:04.496817",
     "exception": false,
     "start_time": "2023-09-07T19:00:04.480718",
     "status": "completed"
    },
    "tags": []
   },
   "source": [
    "* The training and test sets have missing values in Age, that can be filled with the mean values of the ages by tiket class."
   ]
  },
  {
   "cell_type": "markdown",
   "id": "b13d600d",
   "metadata": {
    "papermill": {
     "duration": 0.016104,
     "end_time": "2023-09-07T19:00:04.529539",
     "exception": false,
     "start_time": "2023-09-07T19:00:04.513435",
     "status": "completed"
    },
    "tags": []
   },
   "source": [
    "1. For first class"
   ]
  },
  {
   "cell_type": "code",
   "execution_count": 12,
   "id": "ee8119c1",
   "metadata": {
    "execution": {
     "iopub.execute_input": "2023-09-07T19:00:04.564869Z",
     "iopub.status.busy": "2023-09-07T19:00:04.563804Z",
     "iopub.status.idle": "2023-09-07T19:00:04.573270Z",
     "shell.execute_reply": "2023-09-07T19:00:04.572286Z"
    },
    "papermill": {
     "duration": 0.029627,
     "end_time": "2023-09-07T19:00:04.575630",
     "exception": false,
     "start_time": "2023-09-07T19:00:04.546003",
     "status": "completed"
    },
    "tags": []
   },
   "outputs": [
    {
     "data": {
      "text/plain": [
       "Pclass          0\n",
       "Survived        0\n",
       "Age            30\n",
       "Sex             0\n",
       "PassengerId     0\n",
       "dtype: int64"
      ]
     },
     "execution_count": 12,
     "metadata": {},
     "output_type": "execute_result"
    }
   ],
   "source": [
    "#Show how many NaN are in the First_class DF\n",
    "First_class.isnull().sum()"
   ]
  },
  {
   "cell_type": "code",
   "execution_count": 13,
   "id": "cb5dd717",
   "metadata": {
    "execution": {
     "iopub.execute_input": "2023-09-07T19:00:04.611356Z",
     "iopub.status.busy": "2023-09-07T19:00:04.610539Z",
     "iopub.status.idle": "2023-09-07T19:00:04.633687Z",
     "shell.execute_reply": "2023-09-07T19:00:04.631893Z"
    },
    "papermill": {
     "duration": 0.045313,
     "end_time": "2023-09-07T19:00:04.637849",
     "exception": false,
     "start_time": "2023-09-07T19:00:04.592536",
     "status": "completed"
    },
    "tags": []
   },
   "outputs": [
    {
     "name": "stdout",
     "output_type": "stream",
     "text": [
      "<class 'pandas.core.frame.DataFrame'>\n",
      "Int64Index: 216 entries, 1 to 889\n",
      "Data columns (total 5 columns):\n",
      " #   Column       Non-Null Count  Dtype  \n",
      "---  ------       --------------  -----  \n",
      " 0   Pclass       216 non-null    int64  \n",
      " 1   Survived     216 non-null    int64  \n",
      " 2   Age          216 non-null    float64\n",
      " 3   Sex          216 non-null    object \n",
      " 4   PassengerId  216 non-null    int64  \n",
      "dtypes: float64(1), int64(3), object(1)\n",
      "memory usage: 10.1+ KB\n"
     ]
    }
   ],
   "source": [
    "# Filling in the null's with the average age per class.\n",
    "train_c1 = First_class.fillna(First_class.Age.median())\n",
    "train_c1.info()"
   ]
  },
  {
   "cell_type": "code",
   "execution_count": 14,
   "id": "c76827de",
   "metadata": {
    "execution": {
     "iopub.execute_input": "2023-09-07T19:00:04.673565Z",
     "iopub.status.busy": "2023-09-07T19:00:04.673105Z",
     "iopub.status.idle": "2023-09-07T19:00:04.692699Z",
     "shell.execute_reply": "2023-09-07T19:00:04.691649Z"
    },
    "papermill": {
     "duration": 0.040347,
     "end_time": "2023-09-07T19:00:04.694954",
     "exception": false,
     "start_time": "2023-09-07T19:00:04.654607",
     "status": "completed"
    },
    "tags": []
   },
   "outputs": [
    {
     "data": {
      "text/plain": [
       "Pclass         0\n",
       "Age            9\n",
       "Sex            0\n",
       "PassengerId    0\n",
       "dtype: int64"
      ]
     },
     "execution_count": 14,
     "metadata": {},
     "output_type": "execute_result"
    }
   ],
   "source": [
    "test_data = pd.read_csv(\"/kaggle/input/titanic/test.csv\")\n",
    "test_c1 = test_data.loc[test_data.Pclass == 1][[\"Pclass\",\"Age\",\"Sex\",\"PassengerId\"]]\n",
    "test_c1.isna().sum()"
   ]
  },
  {
   "cell_type": "code",
   "execution_count": 15,
   "id": "53574a1e",
   "metadata": {
    "execution": {
     "iopub.execute_input": "2023-09-07T19:00:04.731259Z",
     "iopub.status.busy": "2023-09-07T19:00:04.730600Z",
     "iopub.status.idle": "2023-09-07T19:00:04.736056Z",
     "shell.execute_reply": "2023-09-07T19:00:04.735269Z"
    },
    "papermill": {
     "duration": 0.02599,
     "end_time": "2023-09-07T19:00:04.738347",
     "exception": false,
     "start_time": "2023-09-07T19:00:04.712357",
     "status": "completed"
    },
    "tags": []
   },
   "outputs": [],
   "source": [
    "test_c1_noNull= test_c1.fillna(First_class.Age.median())"
   ]
  },
  {
   "cell_type": "markdown",
   "id": "f695182c",
   "metadata": {
    "papermill": {
     "duration": 0.016492,
     "end_time": "2023-09-07T19:00:04.771600",
     "exception": false,
     "start_time": "2023-09-07T19:00:04.755108",
     "status": "completed"
    },
    "tags": []
   },
   "source": [
    "2. For the Second Class "
   ]
  },
  {
   "cell_type": "code",
   "execution_count": 16,
   "id": "6fbf5675",
   "metadata": {
    "execution": {
     "iopub.execute_input": "2023-09-07T19:00:04.807392Z",
     "iopub.status.busy": "2023-09-07T19:00:04.806942Z",
     "iopub.status.idle": "2023-09-07T19:00:04.816731Z",
     "shell.execute_reply": "2023-09-07T19:00:04.815095Z"
    },
    "papermill": {
     "duration": 0.030963,
     "end_time": "2023-09-07T19:00:04.819351",
     "exception": false,
     "start_time": "2023-09-07T19:00:04.788388",
     "status": "completed"
    },
    "tags": []
   },
   "outputs": [
    {
     "data": {
      "text/plain": [
       "Pclass          0\n",
       "Survived        0\n",
       "Age            11\n",
       "Sex             0\n",
       "PassengerId     0\n",
       "dtype: int64"
      ]
     },
     "execution_count": 16,
     "metadata": {},
     "output_type": "execute_result"
    }
   ],
   "source": [
    "Second_class.isnull().sum()"
   ]
  },
  {
   "cell_type": "code",
   "execution_count": 17,
   "id": "d68b2951",
   "metadata": {
    "execution": {
     "iopub.execute_input": "2023-09-07T19:00:04.855493Z",
     "iopub.status.busy": "2023-09-07T19:00:04.855041Z",
     "iopub.status.idle": "2023-09-07T19:00:04.862207Z",
     "shell.execute_reply": "2023-09-07T19:00:04.861116Z"
    },
    "papermill": {
     "duration": 0.027753,
     "end_time": "2023-09-07T19:00:04.864416",
     "exception": false,
     "start_time": "2023-09-07T19:00:04.836663",
     "status": "completed"
    },
    "tags": []
   },
   "outputs": [],
   "source": [
    "train_c2 = Second_class.fillna(Second_class.Age.median())\n"
   ]
  },
  {
   "cell_type": "code",
   "execution_count": 18,
   "id": "9c0bd656",
   "metadata": {
    "execution": {
     "iopub.execute_input": "2023-09-07T19:00:04.900819Z",
     "iopub.status.busy": "2023-09-07T19:00:04.899733Z",
     "iopub.status.idle": "2023-09-07T19:00:04.911283Z",
     "shell.execute_reply": "2023-09-07T19:00:04.910217Z"
    },
    "papermill": {
     "duration": 0.031949,
     "end_time": "2023-09-07T19:00:04.913463",
     "exception": false,
     "start_time": "2023-09-07T19:00:04.881514",
     "status": "completed"
    },
    "tags": []
   },
   "outputs": [
    {
     "data": {
      "text/plain": [
       "Pclass         0\n",
       "Age            5\n",
       "Sex            0\n",
       "PassengerId    0\n",
       "dtype: int64"
      ]
     },
     "execution_count": 18,
     "metadata": {},
     "output_type": "execute_result"
    }
   ],
   "source": [
    "test_c2 = test_data.loc[test_data.Pclass == 2][[\"Pclass\",\"Age\",\"Sex\",\"PassengerId\"]]\n",
    "test_c2.isna().sum()"
   ]
  },
  {
   "cell_type": "code",
   "execution_count": 19,
   "id": "34747371",
   "metadata": {
    "execution": {
     "iopub.execute_input": "2023-09-07T19:00:04.950234Z",
     "iopub.status.busy": "2023-09-07T19:00:04.949075Z",
     "iopub.status.idle": "2023-09-07T19:00:04.956124Z",
     "shell.execute_reply": "2023-09-07T19:00:04.954914Z"
    },
    "papermill": {
     "duration": 0.027711,
     "end_time": "2023-09-07T19:00:04.958488",
     "exception": false,
     "start_time": "2023-09-07T19:00:04.930777",
     "status": "completed"
    },
    "tags": []
   },
   "outputs": [],
   "source": [
    "test_c2_noNull= test_c2.fillna(Second_class.Age.median())"
   ]
  },
  {
   "cell_type": "markdown",
   "id": "a036c00d",
   "metadata": {
    "papermill": {
     "duration": 0.016735,
     "end_time": "2023-09-07T19:00:04.992764",
     "exception": false,
     "start_time": "2023-09-07T19:00:04.976029",
     "status": "completed"
    },
    "tags": []
   },
   "source": [
    "3. For Third class "
   ]
  },
  {
   "cell_type": "code",
   "execution_count": 20,
   "id": "e62537d9",
   "metadata": {
    "execution": {
     "iopub.execute_input": "2023-09-07T19:00:05.028674Z",
     "iopub.status.busy": "2023-09-07T19:00:05.028255Z",
     "iopub.status.idle": "2023-09-07T19:00:05.037688Z",
     "shell.execute_reply": "2023-09-07T19:00:05.036657Z"
    },
    "papermill": {
     "duration": 0.030116,
     "end_time": "2023-09-07T19:00:05.039993",
     "exception": false,
     "start_time": "2023-09-07T19:00:05.009877",
     "status": "completed"
    },
    "tags": []
   },
   "outputs": [
    {
     "data": {
      "text/plain": [
       "Pclass           0\n",
       "Survived         0\n",
       "Age            136\n",
       "Sex              0\n",
       "PassengerId      0\n",
       "dtype: int64"
      ]
     },
     "execution_count": 20,
     "metadata": {},
     "output_type": "execute_result"
    }
   ],
   "source": [
    "Third_class.isnull().sum()"
   ]
  },
  {
   "cell_type": "code",
   "execution_count": 21,
   "id": "86e18c52",
   "metadata": {
    "execution": {
     "iopub.execute_input": "2023-09-07T19:00:05.076308Z",
     "iopub.status.busy": "2023-09-07T19:00:05.075876Z",
     "iopub.status.idle": "2023-09-07T19:00:05.082965Z",
     "shell.execute_reply": "2023-09-07T19:00:05.081787Z"
    },
    "papermill": {
     "duration": 0.027923,
     "end_time": "2023-09-07T19:00:05.085192",
     "exception": false,
     "start_time": "2023-09-07T19:00:05.057269",
     "status": "completed"
    },
    "tags": []
   },
   "outputs": [],
   "source": [
    "train_c3 = Third_class.fillna(Third_class.Age.median())"
   ]
  },
  {
   "cell_type": "code",
   "execution_count": 22,
   "id": "3c69dc45",
   "metadata": {
    "execution": {
     "iopub.execute_input": "2023-09-07T19:00:05.121822Z",
     "iopub.status.busy": "2023-09-07T19:00:05.121379Z",
     "iopub.status.idle": "2023-09-07T19:00:05.134957Z",
     "shell.execute_reply": "2023-09-07T19:00:05.133581Z"
    },
    "papermill": {
     "duration": 0.035046,
     "end_time": "2023-09-07T19:00:05.137605",
     "exception": false,
     "start_time": "2023-09-07T19:00:05.102559",
     "status": "completed"
    },
    "tags": []
   },
   "outputs": [
    {
     "data": {
      "text/plain": [
       "Pclass          0\n",
       "Age            72\n",
       "Sex             0\n",
       "PassengerId     0\n",
       "dtype: int64"
      ]
     },
     "execution_count": 22,
     "metadata": {},
     "output_type": "execute_result"
    }
   ],
   "source": [
    "test_c3 = test_data.loc[test_data.Pclass == 3][[\"Pclass\",\"Age\",\"Sex\",\"PassengerId\"]]\n",
    "test_c3.isna().sum()"
   ]
  },
  {
   "cell_type": "code",
   "execution_count": 23,
   "id": "291a8ec8",
   "metadata": {
    "execution": {
     "iopub.execute_input": "2023-09-07T19:00:05.174618Z",
     "iopub.status.busy": "2023-09-07T19:00:05.174184Z",
     "iopub.status.idle": "2023-09-07T19:00:05.189131Z",
     "shell.execute_reply": "2023-09-07T19:00:05.187846Z"
    },
    "papermill": {
     "duration": 0.03664,
     "end_time": "2023-09-07T19:00:05.191907",
     "exception": false,
     "start_time": "2023-09-07T19:00:05.155267",
     "status": "completed"
    },
    "tags": []
   },
   "outputs": [
    {
     "data": {
      "text/html": [
       "<div>\n",
       "<style scoped>\n",
       "    .dataframe tbody tr th:only-of-type {\n",
       "        vertical-align: middle;\n",
       "    }\n",
       "\n",
       "    .dataframe tbody tr th {\n",
       "        vertical-align: top;\n",
       "    }\n",
       "\n",
       "    .dataframe thead th {\n",
       "        text-align: right;\n",
       "    }\n",
       "</style>\n",
       "<table border=\"1\" class=\"dataframe\">\n",
       "  <thead>\n",
       "    <tr style=\"text-align: right;\">\n",
       "      <th></th>\n",
       "      <th>Pclass</th>\n",
       "      <th>Age</th>\n",
       "      <th>Sex</th>\n",
       "      <th>PassengerId</th>\n",
       "    </tr>\n",
       "  </thead>\n",
       "  <tbody>\n",
       "    <tr>\n",
       "      <th>0</th>\n",
       "      <td>3</td>\n",
       "      <td>34.5</td>\n",
       "      <td>male</td>\n",
       "      <td>892</td>\n",
       "    </tr>\n",
       "    <tr>\n",
       "      <th>1</th>\n",
       "      <td>3</td>\n",
       "      <td>47.0</td>\n",
       "      <td>female</td>\n",
       "      <td>893</td>\n",
       "    </tr>\n",
       "    <tr>\n",
       "      <th>3</th>\n",
       "      <td>3</td>\n",
       "      <td>27.0</td>\n",
       "      <td>male</td>\n",
       "      <td>895</td>\n",
       "    </tr>\n",
       "    <tr>\n",
       "      <th>4</th>\n",
       "      <td>3</td>\n",
       "      <td>22.0</td>\n",
       "      <td>female</td>\n",
       "      <td>896</td>\n",
       "    </tr>\n",
       "    <tr>\n",
       "      <th>5</th>\n",
       "      <td>3</td>\n",
       "      <td>14.0</td>\n",
       "      <td>male</td>\n",
       "      <td>897</td>\n",
       "    </tr>\n",
       "  </tbody>\n",
       "</table>\n",
       "</div>"
      ],
      "text/plain": [
       "   Pclass   Age     Sex  PassengerId\n",
       "0       3  34.5    male          892\n",
       "1       3  47.0  female          893\n",
       "3       3  27.0    male          895\n",
       "4       3  22.0  female          896\n",
       "5       3  14.0    male          897"
      ]
     },
     "execution_count": 23,
     "metadata": {},
     "output_type": "execute_result"
    }
   ],
   "source": [
    "test_c3_noNull= test_c3.fillna(Third_class.Age.median())\n",
    "test_c3_noNull.head()"
   ]
  },
  {
   "cell_type": "markdown",
   "id": "5c130d8d",
   "metadata": {
    "papermill": {
     "duration": 0.017504,
     "end_time": "2023-09-07T19:00:05.227450",
     "exception": false,
     "start_time": "2023-09-07T19:00:05.209946",
     "status": "completed"
    },
    "tags": []
   },
   "source": [
    "Joining the data into a single data frame\n"
   ]
  },
  {
   "cell_type": "code",
   "execution_count": 24,
   "id": "fe1aa636",
   "metadata": {
    "execution": {
     "iopub.execute_input": "2023-09-07T19:00:05.266200Z",
     "iopub.status.busy": "2023-09-07T19:00:05.265804Z",
     "iopub.status.idle": "2023-09-07T19:00:05.281010Z",
     "shell.execute_reply": "2023-09-07T19:00:05.279710Z"
    },
    "papermill": {
     "duration": 0.038194,
     "end_time": "2023-09-07T19:00:05.283654",
     "exception": false,
     "start_time": "2023-09-07T19:00:05.245460",
     "status": "completed"
    },
    "tags": []
   },
   "outputs": [
    {
     "name": "stdout",
     "output_type": "stream",
     "text": [
      "<class 'pandas.core.frame.DataFrame'>\n",
      "Int64Index: 891 entries, 1 to 890\n",
      "Data columns (total 5 columns):\n",
      " #   Column       Non-Null Count  Dtype  \n",
      "---  ------       --------------  -----  \n",
      " 0   Pclass       891 non-null    int64  \n",
      " 1   Survived     891 non-null    int64  \n",
      " 2   Age          891 non-null    float64\n",
      " 3   Sex          891 non-null    object \n",
      " 4   PassengerId  891 non-null    int64  \n",
      "dtypes: float64(1), int64(3), object(1)\n",
      "memory usage: 41.8+ KB\n"
     ]
    }
   ],
   "source": [
    "train_df = pd.concat([train_c1, train_c2 ,train_c3],axis=0)\n",
    "train_df.info()"
   ]
  },
  {
   "cell_type": "code",
   "execution_count": 25,
   "id": "6087fcfb",
   "metadata": {
    "execution": {
     "iopub.execute_input": "2023-09-07T19:00:05.322515Z",
     "iopub.status.busy": "2023-09-07T19:00:05.321480Z",
     "iopub.status.idle": "2023-09-07T19:00:05.336145Z",
     "shell.execute_reply": "2023-09-07T19:00:05.334753Z"
    },
    "papermill": {
     "duration": 0.037499,
     "end_time": "2023-09-07T19:00:05.339197",
     "exception": false,
     "start_time": "2023-09-07T19:00:05.301698",
     "status": "completed"
    },
    "tags": []
   },
   "outputs": [
    {
     "name": "stdout",
     "output_type": "stream",
     "text": [
      "<class 'pandas.core.frame.DataFrame'>\n",
      "Int64Index: 418 entries, 11 to 417\n",
      "Data columns (total 4 columns):\n",
      " #   Column       Non-Null Count  Dtype  \n",
      "---  ------       --------------  -----  \n",
      " 0   Pclass       418 non-null    int64  \n",
      " 1   Age          418 non-null    float64\n",
      " 2   Sex          418 non-null    object \n",
      " 3   PassengerId  418 non-null    int64  \n",
      "dtypes: float64(1), int64(2), object(1)\n",
      "memory usage: 16.3+ KB\n"
     ]
    }
   ],
   "source": [
    "test_df = pd.concat([test_c1_noNull, test_c2_noNull, test_c3_noNull],axis=0)\n",
    "test_df.info()"
   ]
  },
  {
   "cell_type": "markdown",
   "id": "cece2bd5",
   "metadata": {
    "papermill": {
     "duration": 0.019257,
     "end_time": "2023-09-07T19:00:05.376668",
     "exception": false,
     "start_time": "2023-09-07T19:00:05.357411",
     "status": "completed"
    },
    "tags": []
   },
   "source": [
    "**Now is time to modeling!**"
   ]
  },
  {
   "cell_type": "code",
   "execution_count": 26,
   "id": "c3f1c637",
   "metadata": {
    "execution": {
     "iopub.execute_input": "2023-09-07T19:00:05.415319Z",
     "iopub.status.busy": "2023-09-07T19:00:05.414859Z",
     "iopub.status.idle": "2023-09-07T19:00:07.651922Z",
     "shell.execute_reply": "2023-09-07T19:00:07.651008Z"
    },
    "papermill": {
     "duration": 2.259826,
     "end_time": "2023-09-07T19:00:07.654643",
     "exception": false,
     "start_time": "2023-09-07T19:00:05.394817",
     "status": "completed"
    },
    "tags": []
   },
   "outputs": [
    {
     "name": "stderr",
     "output_type": "stream",
     "text": [
      "/opt/conda/lib/python3.10/site-packages/scipy/__init__.py:146: UserWarning: A NumPy version >=1.16.5 and <1.23.0 is required for this version of SciPy (detected version 1.23.5\n",
      "  warnings.warn(f\"A NumPy version >={np_minversion} and <{np_maxversion}\"\n"
     ]
    },
    {
     "name": "stdout",
     "output_type": "stream",
     "text": [
      "Your submission was successfully saved!\n"
     ]
    }
   ],
   "source": [
    "from sklearn.ensemble import RandomForestClassifier\n",
    "\n",
    "y = train_df[\"Survived\"]\n",
    "\n",
    "features = [\"Pclass\", \"Sex\", \"Age\"]\n",
    "X = pd.get_dummies(train_df[features])\n",
    "X_test = pd.get_dummies(test_df[features])\n",
    "\n",
    "model = RandomForestClassifier(n_estimators=150, max_depth=5, random_state=1)\n",
    "model.fit(X, y)\n",
    "predictions = model.predict(X_test)\n",
    "\n",
    "output = pd.DataFrame({'PassengerId': test_df.PassengerId, 'Survived': predictions})\n",
    "output.to_csv('submission.csv', index=False)\n",
    "print(\"Your submission was successfully saved!\")\n"
   ]
  },
  {
   "cell_type": "code",
   "execution_count": null,
   "id": "fae4025b",
   "metadata": {
    "papermill": {
     "duration": 0.017793,
     "end_time": "2023-09-07T19:00:07.692045",
     "exception": false,
     "start_time": "2023-09-07T19:00:07.674252",
     "status": "completed"
    },
    "tags": []
   },
   "outputs": [],
   "source": []
  }
 ],
 "kernelspec": {
  "display_name": "Python 3",
  "language": "python",
  "name": "python3"
 },
 "language_info": {
  "codemirror_mode": {
   "name": "ipython",
   "version": 3
  },
  "file_extension": ".py",
  "mimetype": "text/x-python",
  "name": "python",
  "nbconvert_exporter": "python",
  "pygments_lexer": "ipython3",
  "version": "3.6.4"
 },
 "metadata": {
  "kernelspec": {
   "display_name": "Python 3",
   "language": "python",
   "name": "python3"
  },
  "language_info": {
   "codemirror_mode": {
    "name": "ipython",
    "version": 3
   },
   "file_extension": ".py",
   "mimetype": "text/x-python",
   "name": "python",
   "nbconvert_exporter": "python",
   "pygments_lexer": "ipython3",
   "version": "3.10.12"
  },
  "papermill": {
   "default_parameters": {},
   "duration": 17.519322,
   "end_time": "2023-09-07T19:00:08.732594",
   "environment_variables": {},
   "exception": null,
   "input_path": "__notebook__.ipynb",
   "output_path": "__notebook__.ipynb",
   "parameters": {},
   "start_time": "2023-09-07T18:59:51.213272",
   "version": "2.4.0"
  }
 },
 "nbformat": 4,
 "nbformat_minor": 5
}
